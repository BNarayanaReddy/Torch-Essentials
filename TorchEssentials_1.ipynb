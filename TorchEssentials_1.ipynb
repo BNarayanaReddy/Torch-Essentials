{
  "nbformat": 4,
  "nbformat_minor": 0,
  "metadata": {
    "colab": {
      "provenance": [],
      "authorship_tag": "ABX9TyOotK2DzuHAk2ekbDHpmMdy",
      "include_colab_link": true
    },
    "kernelspec": {
      "name": "python3",
      "display_name": "Python 3"
    },
    "language_info": {
      "name": "python"
    }
  },
  "cells": [
    {
      "cell_type": "markdown",
      "metadata": {
        "id": "view-in-github",
        "colab_type": "text"
      },
      "source": [
        "<a href=\"https://colab.research.google.com/github/BNarayanaReddy/Torch-Essentials/blob/main/TorchEssentials_1.ipynb\" target=\"_parent\"><img src=\"https://colab.research.google.com/assets/colab-badge.svg\" alt=\"Open In Colab\"/></a>"
      ]
    },
    {
      "cell_type": "code",
      "execution_count": 1,
      "metadata": {
        "id": "9VHAjt9AjlXe"
      },
      "outputs": [],
      "source": [
        "import torch\n",
        "import numpy as np"
      ]
    },
    {
      "cell_type": "code",
      "source": [
        "x = np.random.randn(10, 2)\n",
        "y = np.random.randint(0,2, size=(1,10))"
      ],
      "metadata": {
        "id": "Ohm9fECK3LCD"
      },
      "execution_count": 2,
      "outputs": []
    },
    {
      "cell_type": "code",
      "source": [
        "x_t = torch.from_numpy(x)\n",
        "y_t = torch.from_numpy(y)"
      ],
      "metadata": {
        "id": "Mb_YKy0C3f2N"
      },
      "execution_count": 3,
      "outputs": []
    },
    {
      "cell_type": "code",
      "source": [
        "x_t.requires_grad"
      ],
      "metadata": {
        "colab": {
          "base_uri": "https://localhost:8080/"
        },
        "id": "I7livbY63gvn",
        "outputId": "a5e21700-6001-4402-d88d-dd3acc35909f"
      },
      "execution_count": 4,
      "outputs": [
        {
          "output_type": "execute_result",
          "data": {
            "text/plain": [
              "False"
            ]
          },
          "metadata": {},
          "execution_count": 4
        }
      ]
    },
    {
      "cell_type": "code",
      "source": [
        "x_t = torch.tensor(5,requires_grad=True, dtype=torch.float)"
      ],
      "metadata": {
        "id": "V4MNdwjH3xNA"
      },
      "execution_count": 7,
      "outputs": []
    },
    {
      "cell_type": "code",
      "source": [
        "x_t.requires_grad"
      ],
      "metadata": {
        "id": "iAN918lP39W7",
        "colab": {
          "base_uri": "https://localhost:8080/"
        },
        "outputId": "b7a1dc14-2f22-48ee-aa90-388ff69935e5"
      },
      "execution_count": 8,
      "outputs": [
        {
          "output_type": "execute_result",
          "data": {
            "text/plain": [
              "True"
            ]
          },
          "metadata": {},
          "execution_count": 8
        }
      ]
    },
    {
      "cell_type": "code",
      "source": [
        "xx_t = torch.tensor(x_t**2, requires_grad=True)"
      ],
      "metadata": {
        "id": "W4Za9Cwy4cfp",
        "colab": {
          "base_uri": "https://localhost:8080/"
        },
        "outputId": "c3a6e9b6-8941-43a8-9de5-a96b930a7e39"
      },
      "execution_count": 9,
      "outputs": [
        {
          "output_type": "stream",
          "name": "stderr",
          "text": [
            "<ipython-input-9-34e2615bc641>:1: UserWarning: To copy construct from a tensor, it is recommended to use sourceTensor.clone().detach() or sourceTensor.clone().detach().requires_grad_(True), rather than torch.tensor(sourceTensor).\n",
            "  xx_t = torch.tensor(x_t**2, requires_grad=True)\n"
          ]
        }
      ]
    },
    {
      "cell_type": "code",
      "source": [
        "xx_t.requires_grad"
      ],
      "metadata": {
        "id": "95e1j3Cv4hUT",
        "colab": {
          "base_uri": "https://localhost:8080/"
        },
        "outputId": "35099745-0699-4476-9608-9567df255d32"
      },
      "execution_count": 10,
      "outputs": [
        {
          "output_type": "execute_result",
          "data": {
            "text/plain": [
              "True"
            ]
          },
          "metadata": {},
          "execution_count": 10
        }
      ]
    },
    {
      "cell_type": "code",
      "source": [
        "xx_t.backward()"
      ],
      "metadata": {
        "id": "gStnfK185XfI"
      },
      "execution_count": 11,
      "outputs": []
    },
    {
      "cell_type": "code",
      "source": [
        "xx_t.grad"
      ],
      "metadata": {
        "colab": {
          "base_uri": "https://localhost:8080/"
        },
        "id": "RRKARTAo5Z1S",
        "outputId": "f2094e6a-bcde-48c2-903f-d46c5ed57c55"
      },
      "execution_count": 12,
      "outputs": [
        {
          "output_type": "execute_result",
          "data": {
            "text/plain": [
              "tensor(1.)"
            ]
          },
          "metadata": {},
          "execution_count": 12
        }
      ]
    },
    {
      "cell_type": "code",
      "source": [
        "!pip install torchviz -qq"
      ],
      "metadata": {
        "id": "LhTB8dqC-Pxq"
      },
      "execution_count": 15,
      "outputs": []
    },
    {
      "cell_type": "code",
      "source": [
        "from torchviz import make_dot\n",
        "make_dot(xx_t, show_attrs = True)"
      ],
      "metadata": {
        "colab": {
          "base_uri": "https://localhost:8080/",
          "height": 73
        },
        "id": "KxdbB188-rzv",
        "outputId": "a7141afe-0393-44e4-9383-2b0e166c6ba6"
      },
      "execution_count": 19,
      "outputs": [
        {
          "output_type": "execute_result",
          "data": {
            "image/svg+xml": "<?xml version=\"1.0\" encoding=\"UTF-8\" standalone=\"no\"?>\n<!DOCTYPE svg PUBLIC \"-//W3C//DTD SVG 1.1//EN\"\n \"http://www.w3.org/Graphics/SVG/1.1/DTD/svg11.dtd\">\n<!-- Generated by graphviz version 2.43.0 (0)\n -->\n<!-- Title: %3 Pages: 1 -->\n<svg width=\"62pt\" height=\"39pt\"\n viewBox=\"0.00 0.00 62.00 39.00\" xmlns=\"http://www.w3.org/2000/svg\" xmlns:xlink=\"http://www.w3.org/1999/xlink\">\n<g id=\"graph0\" class=\"graph\" transform=\"scale(1 1) rotate(0) translate(4 35)\">\n<title>%3</title>\n<polygon fill=\"white\" stroke=\"transparent\" points=\"-4,4 -4,-35 58,-35 58,4 -4,4\"/>\n<!-- 134185126821424 -->\n<g id=\"node1\" class=\"node\">\n<title>134185126821424</title>\n<polygon fill=\"#caff70\" stroke=\"black\" points=\"54,-31 0,-31 0,0 54,0 54,-31\"/>\n<text text-anchor=\"middle\" x=\"27\" y=\"-7\" font-family=\"monospace\" font-size=\"10.00\"> ()</text>\n</g>\n</g>\n</svg>\n",
            "text/plain": [
              "<graphviz.graphs.Digraph at 0x7a0a658cfc10>"
            ]
          },
          "metadata": {},
          "execution_count": 19
        }
      ]
    },
    {
      "cell_type": "markdown",
      "source": [
        "### Dataset and Dataloaders"
      ],
      "metadata": {
        "id": "_abhQPrc_ysV"
      }
    },
    {
      "cell_type": "code",
      "source": [
        "from torch.utils.data import Dataset, DataLoader"
      ],
      "metadata": {
        "id": "PI1ppHB1_53B"
      },
      "execution_count": 24,
      "outputs": []
    },
    {
      "cell_type": "code",
      "source": [
        "height = np.random.normal(loc = 168, scale = 10, size=500).reshape(-1, 1)\n",
        "weight = np.random.normal(loc = 60, scale = 10, size=500).reshape(-1, 1)"
      ],
      "metadata": {
        "id": "ragupR5a_9Te"
      },
      "execution_count": 33,
      "outputs": []
    },
    {
      "cell_type": "code",
      "source": [
        "bmi = weight / (height/100)**2\n",
        "labels = (bmi >= 25).astype(int) # obese = 1 else 0"
      ],
      "metadata": {
        "id": "fRLJrp1zAklp"
      },
      "execution_count": 34,
      "outputs": []
    },
    {
      "cell_type": "code",
      "source": [
        "X = np.concatenate([height/np.max(height), weight/np.max(weight)], axis = 1)\n",
        "Y = np.copy(labels).reshape(-1,1)"
      ],
      "metadata": {
        "id": "ev1PEEV7AnsZ"
      },
      "execution_count": 35,
      "outputs": []
    },
    {
      "cell_type": "code",
      "source": [
        "X.shape, Y.shape"
      ],
      "metadata": {
        "colab": {
          "base_uri": "https://localhost:8080/"
        },
        "id": "e_otl_nnAzWx",
        "outputId": "a406c00b-c29a-4899-ae25-7c1455ab821a"
      },
      "execution_count": 37,
      "outputs": [
        {
          "output_type": "execute_result",
          "data": {
            "text/plain": [
              "((500, 2), (500, 1))"
            ]
          },
          "metadata": {},
          "execution_count": 37
        }
      ]
    },
    {
      "cell_type": "code",
      "source": [
        "class TrainDataset(Dataset):\n",
        "  def __init__(self, x, y):\n",
        "    super().__init__()\n",
        "    self.x = x\n",
        "    self.y = y\n",
        "  def __len__(self):\n",
        "    return self.x.shape[0]\n",
        "  def __getitem__(self, idx):\n",
        "    return self.x[idx], self.y[idx]"
      ],
      "metadata": {
        "id": "WmlahO74BBl1"
      },
      "execution_count": 93,
      "outputs": []
    },
    {
      "cell_type": "code",
      "source": [
        "X = torch.tensor(X, dtype=torch.float)\n",
        "Y = torch.tensor(Y, dtype=torch.float)\n",
        "train_dataset = TrainDataset(X, Y)"
      ],
      "metadata": {
        "colab": {
          "base_uri": "https://localhost:8080/"
        },
        "id": "4SeryGcEBik6",
        "outputId": "4363646e-041d-488f-edf3-bf498278fc9b"
      },
      "execution_count": 94,
      "outputs": [
        {
          "output_type": "stream",
          "name": "stderr",
          "text": [
            "<ipython-input-94-ab10a06d6e39>:1: UserWarning: To copy construct from a tensor, it is recommended to use sourceTensor.clone().detach() or sourceTensor.clone().detach().requires_grad_(True), rather than torch.tensor(sourceTensor).\n",
            "  X = torch.tensor(X, dtype=torch.float)\n",
            "<ipython-input-94-ab10a06d6e39>:2: UserWarning: To copy construct from a tensor, it is recommended to use sourceTensor.clone().detach() or sourceTensor.clone().detach().requires_grad_(True), rather than torch.tensor(sourceTensor).\n",
            "  Y = torch.tensor(Y, dtype=torch.float)\n"
          ]
        }
      ]
    },
    {
      "cell_type": "code",
      "source": [
        "len(train_dataset)"
      ],
      "metadata": {
        "colab": {
          "base_uri": "https://localhost:8080/"
        },
        "id": "_h9fmzoZBl4L",
        "outputId": "80949687-ec7a-4907-c0c3-589dc44974da"
      },
      "execution_count": 78,
      "outputs": [
        {
          "output_type": "execute_result",
          "data": {
            "text/plain": [
              "500"
            ]
          },
          "metadata": {},
          "execution_count": 78
        }
      ]
    },
    {
      "cell_type": "code",
      "source": [
        "train_dataloader = DataLoader(train_dataset, batch_size=350, shuffle=True)"
      ],
      "metadata": {
        "id": "kiFCaqLyCCAV"
      },
      "execution_count": 95,
      "outputs": []
    },
    {
      "cell_type": "code",
      "source": [
        "for i, (x, y) in enumerate(train_dataloader):\n",
        "  print(i, x.shape, y.shape)"
      ],
      "metadata": {
        "colab": {
          "base_uri": "https://localhost:8080/"
        },
        "id": "lhC1w4wtCXQA",
        "outputId": "c8a1adc1-0ea2-4378-e669-4777a9f7a95b"
      },
      "execution_count": 80,
      "outputs": [
        {
          "output_type": "stream",
          "name": "stdout",
          "text": [
            "0 torch.Size([350, 2]) torch.Size([350, 1])\n",
            "1 torch.Size([150, 2]) torch.Size([150, 1])\n"
          ]
        }
      ]
    },
    {
      "cell_type": "markdown",
      "source": [
        "### Model def'n"
      ],
      "metadata": {
        "id": "u3OyHzfbC4G_"
      }
    },
    {
      "cell_type": "code",
      "source": [
        "import torch.nn as nn"
      ],
      "metadata": {
        "id": "3DSISA8RDBnq"
      },
      "execution_count": 60,
      "outputs": []
    },
    {
      "cell_type": "code",
      "source": [
        "class VanillaModel(nn.Module):\n",
        "  def __init__(self, input_dim, output_dim):\n",
        "    super().__init__()\n",
        "    self.linear = nn.Linear(input_dim, output_dim)\n",
        "\n",
        "  def forward(self, x):\n",
        "    return self.linear(x)"
      ],
      "metadata": {
        "id": "0bKoxQJtCaJ9"
      },
      "execution_count": 86,
      "outputs": []
    },
    {
      "cell_type": "code",
      "source": [
        "model = VanillaModel(X.shape[1], Y.shape[1])"
      ],
      "metadata": {
        "id": "cF3OpurHDiwI"
      },
      "execution_count": 83,
      "outputs": []
    },
    {
      "cell_type": "code",
      "source": [
        "X.shape"
      ],
      "metadata": {
        "colab": {
          "base_uri": "https://localhost:8080/"
        },
        "id": "oHtV9x0cGYW6",
        "outputId": "ee83cd99-a1dc-4d0f-be05-3965bd73d84b"
      },
      "execution_count": 85,
      "outputs": [
        {
          "output_type": "execute_result",
          "data": {
            "text/plain": [
              "torch.Size([500, 2])"
            ]
          },
          "metadata": {},
          "execution_count": 85
        }
      ]
    },
    {
      "cell_type": "code",
      "source": [
        "model"
      ],
      "metadata": {
        "colab": {
          "base_uri": "https://localhost:8080/"
        },
        "id": "fl2Q6-ruDpVU",
        "outputId": "e5f03bc0-b574-4b1c-8bad-61ce0df62908"
      },
      "execution_count": 64,
      "outputs": [
        {
          "output_type": "execute_result",
          "data": {
            "text/plain": [
              "VanillaModel(\n",
              "  (linear): Linear(in_features=2, out_features=1, bias=True)\n",
              ")"
            ]
          },
          "metadata": {},
          "execution_count": 64
        }
      ]
    },
    {
      "cell_type": "markdown",
      "source": [
        "### Model Training"
      ],
      "metadata": {
        "id": "WekZEEGbDuej"
      }
    },
    {
      "cell_type": "code",
      "source": [
        "for i in train_dataloader:\n",
        "  print(i[0].shape, i[1].shape)\n",
        "  break"
      ],
      "metadata": {
        "colab": {
          "base_uri": "https://localhost:8080/"
        },
        "id": "SSYCDuCSH07Z",
        "outputId": "9603f27e-bd8e-4b85-bee3-351f1258a5ec"
      },
      "execution_count": 98,
      "outputs": [
        {
          "output_type": "stream",
          "name": "stdout",
          "text": [
            "torch.Size([350, 2]) torch.Size([350, 1])\n"
          ]
        }
      ]
    },
    {
      "cell_type": "code",
      "source": [
        "def fit(model, dataloader, epochs, lr):\n",
        "  for epoch in range(1, epochs+1):\n",
        "    for batch in dataloader:\n",
        "\n",
        "      # Forward\n",
        "      y_pred = model(batch[0])\n",
        "\n",
        "      # Loss\n",
        "      loss = torch.mean((y_pred - batch[1])**2)\n",
        "      loss = loss.requires_grad_()\n",
        "      # Backprop.\n",
        "      loss.backward()\n",
        "\n",
        "      print(\"Loss: \", loss.data)\n",
        "\n",
        "      # Update weights\n",
        "      with torch.no_grad():\n",
        "        model.linear.weight -= lr * model.linear.weight.grad\n",
        "        model.linear.bias -= lr * model.linear.bias.grad\n",
        "\n",
        "      model.linear.weight.grad.zero_()\n",
        "      model.linear.bias.grad.zero_()\n",
        "  return loss"
      ],
      "metadata": {
        "id": "cZ_Dm-FwDsmq"
      },
      "execution_count": 134,
      "outputs": []
    },
    {
      "cell_type": "code",
      "source": [
        "loss = fit(model, train_dataloader, 10, 0.003)"
      ],
      "metadata": {
        "colab": {
          "base_uri": "https://localhost:8080/"
        },
        "id": "SfXnWKR2FdRK",
        "outputId": "1c906ec7-826c-4040-df57-a82e4dcf9e3a"
      },
      "execution_count": 135,
      "outputs": [
        {
          "output_type": "stream",
          "name": "stdout",
          "text": [
            "Loss:  tensor(548.3)\n",
            "Loss:  tensor(501.5526)\n",
            "Loss:  tensor(487.9394)\n",
            "Loss:  tensor(475.7312)\n",
            "Loss:  tensor(462.6880)\n",
            "Loss:  tensor(452.3632)\n",
            "Loss:  tensor(440.1076)\n",
            "Loss:  tensor(427.0464)\n",
            "Loss:  tensor(417.0630)\n",
            "Loss:  tensor(406.8067)\n",
            "Loss:  tensor(396.0230)\n",
            "Loss:  tensor(385.6359)\n",
            "Loss:  tensor(375.5516)\n",
            "Loss:  tensor(366.7445)\n",
            "Loss:  tensor(356.8633)\n",
            "Loss:  tensor(347.0611)\n",
            "Loss:  tensor(338.5739)\n",
            "Loss:  tensor(329.7146)\n",
            "Loss:  tensor(321.5656)\n",
            "Loss:  tensor(312.4372)\n"
          ]
        }
      ]
    },
    {
      "cell_type": "code",
      "source": [
        "make_dot(loss, params=dict(model.named_parameters()))"
      ],
      "metadata": {
        "colab": {
          "base_uri": "https://localhost:8080/",
          "height": 616
        },
        "id": "24hgtbecFhST",
        "outputId": "dba37430-7aa0-4b6e-8d37-139020f9eed4"
      },
      "execution_count": 141,
      "outputs": [
        {
          "output_type": "execute_result",
          "data": {
            "image/svg+xml": "<?xml version=\"1.0\" encoding=\"UTF-8\" standalone=\"no\"?>\n<!DOCTYPE svg PUBLIC \"-//W3C//DTD SVG 1.1//EN\"\n \"http://www.w3.org/Graphics/SVG/1.1/DTD/svg11.dtd\">\n<!-- Generated by graphviz version 2.43.0 (0)\n -->\n<!-- Title: %3 Pages: 1 -->\n<svg width=\"218pt\" height=\"446pt\"\n viewBox=\"0.00 0.00 218.00 446.00\" xmlns=\"http://www.w3.org/2000/svg\" xmlns:xlink=\"http://www.w3.org/1999/xlink\">\n<g id=\"graph0\" class=\"graph\" transform=\"scale(1 1) rotate(0) translate(4 442)\">\n<title>%3</title>\n<polygon fill=\"white\" stroke=\"transparent\" points=\"-4,4 -4,-442 214,-442 214,4 -4,4\"/>\n<!-- 134184887783344 -->\n<g id=\"node1\" class=\"node\">\n<title>134184887783344</title>\n<polygon fill=\"#caff70\" stroke=\"black\" points=\"131.5,-31 77.5,-31 77.5,0 131.5,0 131.5,-31\"/>\n<text text-anchor=\"middle\" x=\"104.5\" y=\"-7\" font-family=\"monospace\" font-size=\"10.00\"> ()</text>\n</g>\n<!-- 134184913000992 -->\n<g id=\"node2\" class=\"node\">\n<title>134184913000992</title>\n<polygon fill=\"lightgrey\" stroke=\"black\" points=\"152,-86 57,-86 57,-67 152,-67 152,-86\"/>\n<text text-anchor=\"middle\" x=\"104.5\" y=\"-74\" font-family=\"monospace\" font-size=\"10.00\">MeanBackward0</text>\n</g>\n<!-- 134184913000992&#45;&gt;134184887783344 -->\n<g id=\"edge9\" class=\"edge\">\n<title>134184913000992&#45;&gt;134184887783344</title>\n<path fill=\"none\" stroke=\"black\" d=\"M104.5,-66.79C104.5,-60.07 104.5,-50.4 104.5,-41.34\"/>\n<polygon fill=\"black\" stroke=\"black\" points=\"108,-41.19 104.5,-31.19 101,-41.19 108,-41.19\"/>\n</g>\n<!-- 134184913002912 -->\n<g id=\"node3\" class=\"node\">\n<title>134184913002912</title>\n<polygon fill=\"lightgrey\" stroke=\"black\" points=\"149,-141 60,-141 60,-122 149,-122 149,-141\"/>\n<text text-anchor=\"middle\" x=\"104.5\" y=\"-129\" font-family=\"monospace\" font-size=\"10.00\">PowBackward0</text>\n</g>\n<!-- 134184913002912&#45;&gt;134184913000992 -->\n<g id=\"edge1\" class=\"edge\">\n<title>134184913002912&#45;&gt;134184913000992</title>\n<path fill=\"none\" stroke=\"black\" d=\"M104.5,-121.75C104.5,-114.8 104.5,-104.85 104.5,-96.13\"/>\n<polygon fill=\"black\" stroke=\"black\" points=\"108,-96.09 104.5,-86.09 101,-96.09 108,-96.09\"/>\n</g>\n<!-- 134184909674704 -->\n<g id=\"node4\" class=\"node\">\n<title>134184909674704</title>\n<polygon fill=\"lightgrey\" stroke=\"black\" points=\"149,-196 60,-196 60,-177 149,-177 149,-196\"/>\n<text text-anchor=\"middle\" x=\"104.5\" y=\"-184\" font-family=\"monospace\" font-size=\"10.00\">SubBackward0</text>\n</g>\n<!-- 134184909674704&#45;&gt;134184913002912 -->\n<g id=\"edge2\" class=\"edge\">\n<title>134184909674704&#45;&gt;134184913002912</title>\n<path fill=\"none\" stroke=\"black\" d=\"M104.5,-176.75C104.5,-169.8 104.5,-159.85 104.5,-151.13\"/>\n<polygon fill=\"black\" stroke=\"black\" points=\"108,-151.09 104.5,-141.09 101,-151.09 108,-151.09\"/>\n</g>\n<!-- 134184909683776 -->\n<g id=\"node5\" class=\"node\">\n<title>134184909683776</title>\n<polygon fill=\"lightgrey\" stroke=\"black\" points=\"155,-251 54,-251 54,-232 155,-232 155,-251\"/>\n<text text-anchor=\"middle\" x=\"104.5\" y=\"-239\" font-family=\"monospace\" font-size=\"10.00\">AddmmBackward0</text>\n</g>\n<!-- 134184909683776&#45;&gt;134184909674704 -->\n<g id=\"edge3\" class=\"edge\">\n<title>134184909683776&#45;&gt;134184909674704</title>\n<path fill=\"none\" stroke=\"black\" d=\"M104.5,-231.75C104.5,-224.8 104.5,-214.85 104.5,-206.13\"/>\n<polygon fill=\"black\" stroke=\"black\" points=\"108,-206.09 104.5,-196.09 101,-206.09 108,-206.09\"/>\n</g>\n<!-- 134184909678832 -->\n<g id=\"node6\" class=\"node\">\n<title>134184909678832</title>\n<polygon fill=\"lightgrey\" stroke=\"black\" points=\"101,-306 0,-306 0,-287 101,-287 101,-306\"/>\n<text text-anchor=\"middle\" x=\"50.5\" y=\"-294\" font-family=\"monospace\" font-size=\"10.00\">AccumulateGrad</text>\n</g>\n<!-- 134184909678832&#45;&gt;134184909683776 -->\n<g id=\"edge4\" class=\"edge\">\n<title>134184909678832&#45;&gt;134184909683776</title>\n<path fill=\"none\" stroke=\"black\" d=\"M59.42,-286.75C67.28,-279.03 78.93,-267.6 88.42,-258.28\"/>\n<polygon fill=\"black\" stroke=\"black\" points=\"91.06,-260.59 95.75,-251.09 86.16,-255.6 91.06,-260.59\"/>\n</g>\n<!-- 134184888760368 -->\n<g id=\"node7\" class=\"node\">\n<title>134184888760368</title>\n<polygon fill=\"lightblue\" stroke=\"black\" points=\"91,-372 8,-372 8,-342 91,-342 91,-372\"/>\n<text text-anchor=\"middle\" x=\"49.5\" y=\"-360\" font-family=\"monospace\" font-size=\"10.00\">linear.bias</text>\n<text text-anchor=\"middle\" x=\"49.5\" y=\"-349\" font-family=\"monospace\" font-size=\"10.00\"> (1)</text>\n</g>\n<!-- 134184888760368&#45;&gt;134184909678832 -->\n<g id=\"edge5\" class=\"edge\">\n<title>134184888760368&#45;&gt;134184909678832</title>\n<path fill=\"none\" stroke=\"black\" d=\"M49.74,-341.84C49.87,-334.21 50.03,-324.7 50.18,-316.45\"/>\n<polygon fill=\"black\" stroke=\"black\" points=\"53.68,-316.32 50.35,-306.27 46.68,-316.2 53.68,-316.32\"/>\n</g>\n<!-- 134184909674512 -->\n<g id=\"node8\" class=\"node\">\n<title>134184909674512</title>\n<polygon fill=\"lightgrey\" stroke=\"black\" points=\"197,-306 120,-306 120,-287 197,-287 197,-306\"/>\n<text text-anchor=\"middle\" x=\"158.5\" y=\"-294\" font-family=\"monospace\" font-size=\"10.00\">TBackward0</text>\n</g>\n<!-- 134184909674512&#45;&gt;134184909683776 -->\n<g id=\"edge6\" class=\"edge\">\n<title>134184909674512&#45;&gt;134184909683776</title>\n<path fill=\"none\" stroke=\"black\" d=\"M149.58,-286.75C141.72,-279.03 130.07,-267.6 120.58,-258.28\"/>\n<polygon fill=\"black\" stroke=\"black\" points=\"122.84,-255.6 113.25,-251.09 117.94,-260.59 122.84,-255.6\"/>\n</g>\n<!-- 134184909673888 -->\n<g id=\"node9\" class=\"node\">\n<title>134184909673888</title>\n<polygon fill=\"lightgrey\" stroke=\"black\" points=\"210,-366.5 109,-366.5 109,-347.5 210,-347.5 210,-366.5\"/>\n<text text-anchor=\"middle\" x=\"159.5\" y=\"-354.5\" font-family=\"monospace\" font-size=\"10.00\">AccumulateGrad</text>\n</g>\n<!-- 134184909673888&#45;&gt;134184909674512 -->\n<g id=\"edge7\" class=\"edge\">\n<title>134184909673888&#45;&gt;134184909674512</title>\n<path fill=\"none\" stroke=\"black\" d=\"M159.35,-347.37C159.21,-339.25 159,-326.81 158.82,-316.39\"/>\n<polygon fill=\"black\" stroke=\"black\" points=\"162.32,-316.11 158.65,-306.17 155.32,-316.23 162.32,-316.11\"/>\n</g>\n<!-- 134184888762000 -->\n<g id=\"node10\" class=\"node\">\n<title>134184888762000</title>\n<polygon fill=\"lightblue\" stroke=\"black\" points=\"207,-438 112,-438 112,-408 207,-408 207,-438\"/>\n<text text-anchor=\"middle\" x=\"159.5\" y=\"-426\" font-family=\"monospace\" font-size=\"10.00\">linear.weight</text>\n<text text-anchor=\"middle\" x=\"159.5\" y=\"-415\" font-family=\"monospace\" font-size=\"10.00\"> (1, 2)</text>\n</g>\n<!-- 134184888762000&#45;&gt;134184909673888 -->\n<g id=\"edge8\" class=\"edge\">\n<title>134184888762000&#45;&gt;134184909673888</title>\n<path fill=\"none\" stroke=\"black\" d=\"M159.5,-407.8C159.5,-398.7 159.5,-386.79 159.5,-376.9\"/>\n<polygon fill=\"black\" stroke=\"black\" points=\"163,-376.84 159.5,-366.84 156,-376.84 163,-376.84\"/>\n</g>\n</g>\n</svg>\n",
            "text/plain": [
              "<graphviz.graphs.Digraph at 0x7a0a5a6e83d0>"
            ]
          },
          "metadata": {},
          "execution_count": 141
        }
      ]
    },
    {
      "cell_type": "code",
      "source": [],
      "metadata": {
        "id": "e4SQuOBLJwLt"
      },
      "execution_count": null,
      "outputs": []
    }
  ]
}
